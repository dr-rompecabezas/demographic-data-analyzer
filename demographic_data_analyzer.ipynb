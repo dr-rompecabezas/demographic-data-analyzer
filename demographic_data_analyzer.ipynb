{
  "nbformat": 4,
  "nbformat_minor": 0,
  "metadata": {
    "colab": {
      "name": "demographic-data-analyzer.ipynb",
      "provenance": [],
      "collapsed_sections": [],
      "authorship_tag": "ABX9TyPXA8FZK7a/IJsJ1nh9bdsb",
      "include_colab_link": true
    },
    "kernelspec": {
      "name": "python3",
      "display_name": "Python 3"
    },
    "language_info": {
      "name": "python"
    }
  },
  "cells": [
    {
      "cell_type": "markdown",
      "metadata": {
        "id": "view-in-github",
        "colab_type": "text"
      },
      "source": [
        "<a href=\"https://colab.research.google.com/github/dr-rompecabezas/demographic-data-analyzer/blob/master/demographic_data_analyzer.ipynb\" target=\"_parent\"><img src=\"https://colab.research.google.com/assets/colab-badge.svg\" alt=\"Open In Colab\"/></a>"
      ]
    },
    {
      "cell_type": "markdown",
      "metadata": {
        "id": "J9JP4TXwld-i"
      },
      "source": [
        "### Assignment\n",
        "\n",
        "# Demographic Data Analyzer\n",
        "\n",
        "In this challenge you must analyze demographic data using Pandas. You are given a dataset of demographic data that was extracted from the 1994 Census database. Here is a sample of what the data looks like:\n",
        "\n",
        "|    |   age | workclass        |   fnlwgt | education   |   education-num | marital-status     | occupation        | relationship   | race   | sex    |   capital-gain |   capital-loss |   hours-per-week | native-country   | salary   |\n",
        "|---:|------:|:-----------------|---------:|:------------|----------------:|:-------------------|:------------------|:---------------|:-------|:-------|---------------:|---------------:|-----------------:|:-----------------|:---------|\n",
        "|  0 |    39 | State-gov        |    77516 | Bachelors   |              13 | Never-married      | Adm-clerical      | Not-in-family  | White  | Male   |           2174 |              0 |               40 | United-States    | <=50K    |\n",
        "|  1 |    50 | Self-emp-not-inc |    83311 | Bachelors   |              13 | Married-civ-spouse | Exec-managerial   | Husband        | White  | Male   |              0 |              0 |               13 | United-States    | <=50K    |\n",
        "|  2 |    38 | Private          |   215646 | HS-grad     |               9 | Divorced           | Handlers-cleaners | Not-in-family  | White  | Male   |              0 |              0 |               40 | United-States    | <=50K    |\n",
        "|  3 |    53 | Private          |   234721 | 11th        |               7 | Married-civ-spouse | Handlers-cleaners | Husband        | Black  | Male   |              0 |              0 |               40 | United-States    | <=50K    |\n",
        "|  4 |    28 | Private          |   338409 | Bachelors   |              13 | Married-civ-spouse | Prof-specialty    | Wife           | Black  | Female |              0 |              0 |               40 | Cuba             | <=50K    |\n",
        "\n",
        "\n",
        "You must use Pandas to answer the following questions:\n",
        "* How many people of each race are represented in this dataset? This should be a Pandas series with race names as the index labels. (`race` column)\n",
        "* What is the average age of men?\n",
        "* What is the percentage of people who have a Bachelor's degree?\n",
        "* What percentage of people with advanced education (`Bachelors`, `Masters`, or `Doctorate`) make more than 50K?\n",
        "* What percentage of people without advanced education make more than 50K?\n",
        "* What is the minimum number of hours a person works per week?\n",
        "* What percentage of the people who work the minimum number of hours per week have a salary of more than 50K?\n",
        "* What country has the highest percentage of people that earn >50K and what is that percentage?\n",
        "* Identify the most popular occupation for those who earn >50K in India. \n",
        "\n",
        "Use the starter code in the file `demographic_data_anaylizer`. Update the code so all variables set to \"None\" are set to the appropriate calculation or code. Round all decimals to the nearest tenth.\n",
        "\n",
        "### Dataset Source\n",
        "\n",
        "Dua, D. and Graff, C. (2019). UCI Machine Learning Repository [http://archive.ics.uci.edu/ml]. Irvine, CA: University of California, School of Information and Computer Science."
      ]
    },
    {
      "cell_type": "code",
      "metadata": {
        "id": "PDfVuK96lcmc"
      },
      "source": [
        "import pandas as pd"
      ],
      "execution_count": 1,
      "outputs": []
    },
    {
      "cell_type": "code",
      "metadata": {
        "id": "_kb1_sQsnS_1"
      },
      "source": [
        "# Read data from file\n",
        "df = pd.read_csv('adult.data.csv')"
      ],
      "execution_count": 2,
      "outputs": []
    },
    {
      "cell_type": "code",
      "metadata": {
        "id": "nSBHQnZnng9O"
      },
      "source": [
        "# How many of each race are represented in this dataset? \n",
        "# This should be a Pandas series with race names as the index labels.\n",
        "race_count = df['race'].value_counts()"
      ],
      "execution_count": 3,
      "outputs": []
    },
    {
      "cell_type": "code",
      "metadata": {
        "colab": {
          "base_uri": "https://localhost:8080/"
        },
        "id": "U6zr5a5-WCr6",
        "outputId": "9487fe2d-fc9a-42d1-a756-92cd36942268"
      },
      "source": [
        "race_count"
      ],
      "execution_count": 4,
      "outputs": [
        {
          "output_type": "execute_result",
          "data": {
            "text/plain": [
              "White                 27816\n",
              "Black                  3124\n",
              "Asian-Pac-Islander     1039\n",
              "Amer-Indian-Eskimo      311\n",
              "Other                   271\n",
              "Name: race, dtype: int64"
            ]
          },
          "metadata": {
            "tags": []
          },
          "execution_count": 4
        }
      ]
    },
    {
      "cell_type": "code",
      "metadata": {
        "colab": {
          "base_uri": "https://localhost:8080/"
        },
        "id": "RGWHPJ4Fecjo",
        "outputId": "e66435a1-efa6-4747-daae-31a95e1620c2"
      },
      "source": [
        "df.groupby('sex').age.mean()"
      ],
      "execution_count": 5,
      "outputs": [
        {
          "output_type": "execute_result",
          "data": {
            "text/plain": [
              "sex\n",
              "Female    36.858230\n",
              "Male      39.433547\n",
              "Name: age, dtype: float64"
            ]
          },
          "metadata": {
            "tags": []
          },
          "execution_count": 5
        }
      ]
    },
    {
      "cell_type": "code",
      "metadata": {
        "colab": {
          "base_uri": "https://localhost:8080/"
        },
        "id": "v-CWatflXw4H",
        "outputId": "f5717bd4-9fe0-4a12-bf20-0c29cf692deb"
      },
      "source": [
        "df.query(\"sex=='Male'\").age.mean()"
      ],
      "execution_count": 6,
      "outputs": [
        {
          "output_type": "execute_result",
          "data": {
            "text/plain": [
              "39.43354749885268"
            ]
          },
          "metadata": {
            "tags": []
          },
          "execution_count": 6
        }
      ]
    },
    {
      "cell_type": "code",
      "metadata": {
        "id": "AQVUkmEInvcU",
        "colab": {
          "base_uri": "https://localhost:8080/"
        },
        "outputId": "c2ccc178-c997-4007-96a9-f330246c8ae5"
      },
      "source": [
        "# What is the average age of men?\n",
        "average_age_men = round(df.query(\"sex=='Male'\").age.mean(), 1)\n",
        "average_age_men"
      ],
      "execution_count": 7,
      "outputs": [
        {
          "output_type": "execute_result",
          "data": {
            "text/plain": [
              "39.4"
            ]
          },
          "metadata": {
            "tags": []
          },
          "execution_count": 7
        }
      ]
    },
    {
      "cell_type": "code",
      "metadata": {
        "colab": {
          "base_uri": "https://localhost:8080/",
          "height": 419
        },
        "id": "fhDkV7UCAW54",
        "outputId": "c9a27c61-b25f-492a-8b66-eab9fbd1a91e"
      },
      "source": [
        "df.loc[df['education-num'] >= 13, ['education', 'education-num', 'salary']]"
      ],
      "execution_count": 8,
      "outputs": [
        {
          "output_type": "execute_result",
          "data": {
            "text/html": [
              "<div>\n",
              "<style scoped>\n",
              "    .dataframe tbody tr th:only-of-type {\n",
              "        vertical-align: middle;\n",
              "    }\n",
              "\n",
              "    .dataframe tbody tr th {\n",
              "        vertical-align: top;\n",
              "    }\n",
              "\n",
              "    .dataframe thead th {\n",
              "        text-align: right;\n",
              "    }\n",
              "</style>\n",
              "<table border=\"1\" class=\"dataframe\">\n",
              "  <thead>\n",
              "    <tr style=\"text-align: right;\">\n",
              "      <th></th>\n",
              "      <th>education</th>\n",
              "      <th>education-num</th>\n",
              "      <th>salary</th>\n",
              "    </tr>\n",
              "  </thead>\n",
              "  <tbody>\n",
              "    <tr>\n",
              "      <th>0</th>\n",
              "      <td>Bachelors</td>\n",
              "      <td>13</td>\n",
              "      <td>&lt;=50K</td>\n",
              "    </tr>\n",
              "    <tr>\n",
              "      <th>1</th>\n",
              "      <td>Bachelors</td>\n",
              "      <td>13</td>\n",
              "      <td>&lt;=50K</td>\n",
              "    </tr>\n",
              "    <tr>\n",
              "      <th>4</th>\n",
              "      <td>Bachelors</td>\n",
              "      <td>13</td>\n",
              "      <td>&lt;=50K</td>\n",
              "    </tr>\n",
              "    <tr>\n",
              "      <th>5</th>\n",
              "      <td>Masters</td>\n",
              "      <td>14</td>\n",
              "      <td>&lt;=50K</td>\n",
              "    </tr>\n",
              "    <tr>\n",
              "      <th>8</th>\n",
              "      <td>Masters</td>\n",
              "      <td>14</td>\n",
              "      <td>&gt;50K</td>\n",
              "    </tr>\n",
              "    <tr>\n",
              "      <th>...</th>\n",
              "      <td>...</td>\n",
              "      <td>...</td>\n",
              "      <td>...</td>\n",
              "    </tr>\n",
              "    <tr>\n",
              "      <th>32539</th>\n",
              "      <td>Doctorate</td>\n",
              "      <td>16</td>\n",
              "      <td>&gt;50K</td>\n",
              "    </tr>\n",
              "    <tr>\n",
              "      <th>32544</th>\n",
              "      <td>Masters</td>\n",
              "      <td>14</td>\n",
              "      <td>&lt;=50K</td>\n",
              "    </tr>\n",
              "    <tr>\n",
              "      <th>32548</th>\n",
              "      <td>Prof-school</td>\n",
              "      <td>15</td>\n",
              "      <td>&lt;=50K</td>\n",
              "    </tr>\n",
              "    <tr>\n",
              "      <th>32553</th>\n",
              "      <td>Masters</td>\n",
              "      <td>14</td>\n",
              "      <td>&lt;=50K</td>\n",
              "    </tr>\n",
              "    <tr>\n",
              "      <th>32554</th>\n",
              "      <td>Masters</td>\n",
              "      <td>14</td>\n",
              "      <td>&gt;50K</td>\n",
              "    </tr>\n",
              "  </tbody>\n",
              "</table>\n",
              "<p>8067 rows × 3 columns</p>\n",
              "</div>"
            ],
            "text/plain": [
              "         education  education-num salary\n",
              "0        Bachelors             13  <=50K\n",
              "1        Bachelors             13  <=50K\n",
              "4        Bachelors             13  <=50K\n",
              "5          Masters             14  <=50K\n",
              "8          Masters             14   >50K\n",
              "...            ...            ...    ...\n",
              "32539    Doctorate             16   >50K\n",
              "32544      Masters             14  <=50K\n",
              "32548  Prof-school             15  <=50K\n",
              "32553      Masters             14  <=50K\n",
              "32554      Masters             14   >50K\n",
              "\n",
              "[8067 rows x 3 columns]"
            ]
          },
          "metadata": {
            "tags": []
          },
          "execution_count": 8
        }
      ]
    },
    {
      "cell_type": "code",
      "metadata": {
        "colab": {
          "base_uri": "https://localhost:8080/"
        },
        "id": "mso94W-ZtlrY",
        "outputId": "09101097-28b1-4d1a-b5ee-c502871a287a"
      },
      "source": [
        "df['salary'].value_counts()"
      ],
      "execution_count": 9,
      "outputs": [
        {
          "output_type": "execute_result",
          "data": {
            "text/plain": [
              "<=50K    24720\n",
              ">50K      7841\n",
              "Name: salary, dtype: int64"
            ]
          },
          "metadata": {
            "tags": []
          },
          "execution_count": 9
        }
      ]
    },
    {
      "cell_type": "code",
      "metadata": {
        "colab": {
          "base_uri": "https://localhost:8080/"
        },
        "id": "GueSzQKqGrkj",
        "outputId": "22ff6726-a419-4091-a244-837a469f2b5b"
      },
      "source": [
        "df[['education', 'education-num']].value_counts()"
      ],
      "execution_count": 10,
      "outputs": [
        {
          "output_type": "execute_result",
          "data": {
            "text/plain": [
              "education     education-num\n",
              "HS-grad       9                10501\n",
              "Some-college  10                7291\n",
              "Bachelors     13                5355\n",
              "Masters       14                1723\n",
              "Assoc-voc     11                1382\n",
              "11th          7                 1175\n",
              "Assoc-acdm    12                1067\n",
              "10th          6                  933\n",
              "7th-8th       4                  646\n",
              "Prof-school   15                 576\n",
              "9th           5                  514\n",
              "12th          8                  433\n",
              "Doctorate     16                 413\n",
              "5th-6th       3                  333\n",
              "1st-4th       2                  168\n",
              "Preschool     1                   51\n",
              "dtype: int64"
            ]
          },
          "metadata": {
            "tags": []
          },
          "execution_count": 10
        }
      ]
    },
    {
      "cell_type": "code",
      "metadata": {
        "colab": {
          "base_uri": "https://localhost:8080/"
        },
        "id": "gITdM6DlJ38V",
        "outputId": "3cb90b87-7137-4de6-9d17-4e0daa93a435"
      },
      "source": [
        "bmd_bool = ((df['education-num'] == 13) | (df['education-num'] == 14) | (df['education-num'] == 16))\n",
        "bmd_bool"
      ],
      "execution_count": 11,
      "outputs": [
        {
          "output_type": "execute_result",
          "data": {
            "text/plain": [
              "0         True\n",
              "1         True\n",
              "2        False\n",
              "3        False\n",
              "4         True\n",
              "         ...  \n",
              "32556    False\n",
              "32557    False\n",
              "32558    False\n",
              "32559    False\n",
              "32560    False\n",
              "Name: education-num, Length: 32561, dtype: bool"
            ]
          },
          "metadata": {
            "tags": []
          },
          "execution_count": 11
        }
      ]
    },
    {
      "cell_type": "code",
      "metadata": {
        "colab": {
          "base_uri": "https://localhost:8080/",
          "height": 210
        },
        "id": "KnXxibj2A_Ro",
        "outputId": "ab606239-367c-4e33-ab97-85ff8c45a61a"
      },
      "source": [
        "bmd = df.loc[(df['education-num'] == 13) | (df['education-num'] == 14) | (df['education-num'] == 16)]\n",
        "bmd.head(3)"
      ],
      "execution_count": 12,
      "outputs": [
        {
          "output_type": "execute_result",
          "data": {
            "text/html": [
              "<div>\n",
              "<style scoped>\n",
              "    .dataframe tbody tr th:only-of-type {\n",
              "        vertical-align: middle;\n",
              "    }\n",
              "\n",
              "    .dataframe tbody tr th {\n",
              "        vertical-align: top;\n",
              "    }\n",
              "\n",
              "    .dataframe thead th {\n",
              "        text-align: right;\n",
              "    }\n",
              "</style>\n",
              "<table border=\"1\" class=\"dataframe\">\n",
              "  <thead>\n",
              "    <tr style=\"text-align: right;\">\n",
              "      <th></th>\n",
              "      <th>age</th>\n",
              "      <th>workclass</th>\n",
              "      <th>fnlwgt</th>\n",
              "      <th>education</th>\n",
              "      <th>education-num</th>\n",
              "      <th>marital-status</th>\n",
              "      <th>occupation</th>\n",
              "      <th>relationship</th>\n",
              "      <th>race</th>\n",
              "      <th>sex</th>\n",
              "      <th>capital-gain</th>\n",
              "      <th>capital-loss</th>\n",
              "      <th>hours-per-week</th>\n",
              "      <th>native-country</th>\n",
              "      <th>salary</th>\n",
              "    </tr>\n",
              "  </thead>\n",
              "  <tbody>\n",
              "    <tr>\n",
              "      <th>0</th>\n",
              "      <td>39</td>\n",
              "      <td>State-gov</td>\n",
              "      <td>77516</td>\n",
              "      <td>Bachelors</td>\n",
              "      <td>13</td>\n",
              "      <td>Never-married</td>\n",
              "      <td>Adm-clerical</td>\n",
              "      <td>Not-in-family</td>\n",
              "      <td>White</td>\n",
              "      <td>Male</td>\n",
              "      <td>2174</td>\n",
              "      <td>0</td>\n",
              "      <td>40</td>\n",
              "      <td>United-States</td>\n",
              "      <td>&lt;=50K</td>\n",
              "    </tr>\n",
              "    <tr>\n",
              "      <th>1</th>\n",
              "      <td>50</td>\n",
              "      <td>Self-emp-not-inc</td>\n",
              "      <td>83311</td>\n",
              "      <td>Bachelors</td>\n",
              "      <td>13</td>\n",
              "      <td>Married-civ-spouse</td>\n",
              "      <td>Exec-managerial</td>\n",
              "      <td>Husband</td>\n",
              "      <td>White</td>\n",
              "      <td>Male</td>\n",
              "      <td>0</td>\n",
              "      <td>0</td>\n",
              "      <td>13</td>\n",
              "      <td>United-States</td>\n",
              "      <td>&lt;=50K</td>\n",
              "    </tr>\n",
              "    <tr>\n",
              "      <th>4</th>\n",
              "      <td>28</td>\n",
              "      <td>Private</td>\n",
              "      <td>338409</td>\n",
              "      <td>Bachelors</td>\n",
              "      <td>13</td>\n",
              "      <td>Married-civ-spouse</td>\n",
              "      <td>Prof-specialty</td>\n",
              "      <td>Wife</td>\n",
              "      <td>Black</td>\n",
              "      <td>Female</td>\n",
              "      <td>0</td>\n",
              "      <td>0</td>\n",
              "      <td>40</td>\n",
              "      <td>Cuba</td>\n",
              "      <td>&lt;=50K</td>\n",
              "    </tr>\n",
              "  </tbody>\n",
              "</table>\n",
              "</div>"
            ],
            "text/plain": [
              "   age         workclass  fnlwgt  ... hours-per-week  native-country salary\n",
              "0   39         State-gov   77516  ...             40   United-States  <=50K\n",
              "1   50  Self-emp-not-inc   83311  ...             13   United-States  <=50K\n",
              "4   28           Private  338409  ...             40            Cuba  <=50K\n",
              "\n",
              "[3 rows x 15 columns]"
            ]
          },
          "metadata": {
            "tags": []
          },
          "execution_count": 12
        }
      ]
    },
    {
      "cell_type": "code",
      "metadata": {
        "colab": {
          "base_uri": "https://localhost:8080/",
          "height": 210
        },
        "id": "9V-400vmt2J1",
        "outputId": "4492a848-368a-4c36-867e-c395f51fe512"
      },
      "source": [
        "bmd_over50K = df.loc[ bmd_bool & (df['salary'] == '>50K')]\n",
        "bmd_over50K.head(3)"
      ],
      "execution_count": 13,
      "outputs": [
        {
          "output_type": "execute_result",
          "data": {
            "text/html": [
              "<div>\n",
              "<style scoped>\n",
              "    .dataframe tbody tr th:only-of-type {\n",
              "        vertical-align: middle;\n",
              "    }\n",
              "\n",
              "    .dataframe tbody tr th {\n",
              "        vertical-align: top;\n",
              "    }\n",
              "\n",
              "    .dataframe thead th {\n",
              "        text-align: right;\n",
              "    }\n",
              "</style>\n",
              "<table border=\"1\" class=\"dataframe\">\n",
              "  <thead>\n",
              "    <tr style=\"text-align: right;\">\n",
              "      <th></th>\n",
              "      <th>age</th>\n",
              "      <th>workclass</th>\n",
              "      <th>fnlwgt</th>\n",
              "      <th>education</th>\n",
              "      <th>education-num</th>\n",
              "      <th>marital-status</th>\n",
              "      <th>occupation</th>\n",
              "      <th>relationship</th>\n",
              "      <th>race</th>\n",
              "      <th>sex</th>\n",
              "      <th>capital-gain</th>\n",
              "      <th>capital-loss</th>\n",
              "      <th>hours-per-week</th>\n",
              "      <th>native-country</th>\n",
              "      <th>salary</th>\n",
              "    </tr>\n",
              "  </thead>\n",
              "  <tbody>\n",
              "    <tr>\n",
              "      <th>8</th>\n",
              "      <td>31</td>\n",
              "      <td>Private</td>\n",
              "      <td>45781</td>\n",
              "      <td>Masters</td>\n",
              "      <td>14</td>\n",
              "      <td>Never-married</td>\n",
              "      <td>Prof-specialty</td>\n",
              "      <td>Not-in-family</td>\n",
              "      <td>White</td>\n",
              "      <td>Female</td>\n",
              "      <td>14084</td>\n",
              "      <td>0</td>\n",
              "      <td>50</td>\n",
              "      <td>United-States</td>\n",
              "      <td>&gt;50K</td>\n",
              "    </tr>\n",
              "    <tr>\n",
              "      <th>9</th>\n",
              "      <td>42</td>\n",
              "      <td>Private</td>\n",
              "      <td>159449</td>\n",
              "      <td>Bachelors</td>\n",
              "      <td>13</td>\n",
              "      <td>Married-civ-spouse</td>\n",
              "      <td>Exec-managerial</td>\n",
              "      <td>Husband</td>\n",
              "      <td>White</td>\n",
              "      <td>Male</td>\n",
              "      <td>5178</td>\n",
              "      <td>0</td>\n",
              "      <td>40</td>\n",
              "      <td>United-States</td>\n",
              "      <td>&gt;50K</td>\n",
              "    </tr>\n",
              "    <tr>\n",
              "      <th>11</th>\n",
              "      <td>30</td>\n",
              "      <td>State-gov</td>\n",
              "      <td>141297</td>\n",
              "      <td>Bachelors</td>\n",
              "      <td>13</td>\n",
              "      <td>Married-civ-spouse</td>\n",
              "      <td>Prof-specialty</td>\n",
              "      <td>Husband</td>\n",
              "      <td>Asian-Pac-Islander</td>\n",
              "      <td>Male</td>\n",
              "      <td>0</td>\n",
              "      <td>0</td>\n",
              "      <td>40</td>\n",
              "      <td>India</td>\n",
              "      <td>&gt;50K</td>\n",
              "    </tr>\n",
              "  </tbody>\n",
              "</table>\n",
              "</div>"
            ],
            "text/plain": [
              "    age  workclass  fnlwgt  ... hours-per-week  native-country salary\n",
              "8    31    Private   45781  ...             50   United-States   >50K\n",
              "9    42    Private  159449  ...             40   United-States   >50K\n",
              "11   30  State-gov  141297  ...             40           India   >50K\n",
              "\n",
              "[3 rows x 15 columns]"
            ]
          },
          "metadata": {
            "tags": []
          },
          "execution_count": 13
        }
      ]
    },
    {
      "cell_type": "code",
      "metadata": {
        "colab": {
          "base_uri": "https://localhost:8080/"
        },
        "id": "rbSejruyM5vF",
        "outputId": "9b1f5f31-4d94-4290-bb20-e882202f709c"
      },
      "source": [
        "(df.loc[ bmd_bool & (df['salary'] == '>50K')].count()/df.loc[bmd_bool].count()).mean()"
      ],
      "execution_count": 14,
      "outputs": [
        {
          "output_type": "execute_result",
          "data": {
            "text/plain": [
              "0.46535843011613937"
            ]
          },
          "metadata": {
            "tags": []
          },
          "execution_count": 14
        }
      ]
    },
    {
      "cell_type": "code",
      "metadata": {
        "colab": {
          "base_uri": "https://localhost:8080/"
        },
        "id": "PU_hOF-hIrRB",
        "outputId": "5b5c7d44-66b1-45c8-8ec5-70018acd55b5"
      },
      "source": [
        "(bmd_over50K.count()/bmd.count()*100).mean()"
      ],
      "execution_count": 15,
      "outputs": [
        {
          "output_type": "execute_result",
          "data": {
            "text/plain": [
              "46.53584301161392"
            ]
          },
          "metadata": {
            "tags": []
          },
          "execution_count": 15
        }
      ]
    },
    {
      "cell_type": "code",
      "metadata": {
        "id": "4hJUg6NMn-AA"
      },
      "source": [
        "# What is the percentage of people who have a Bachelor's degree?\n",
        "percentage_bachelors = round( (df.loc[df['education'] == 'Bachelors'].count()/df['education'].count()*100).mean(), 1)\n",
        "\n",
        "# What percentage of people with advanced education (`Bachelors`, `Masters`, or `Doctorate`) make more than 50K?\n",
        "# What percentage of people without advanced education make more than 50K?\n",
        "\n",
        "# with and without `Bachelors`, `Masters`, or `Doctorate`\n",
        "higher_education = ((df['education-num'] == 13) | (df['education-num'] == 14) | (df['education-num'] == 16))\n",
        "lower_education = ((df['education-num'] < 13) | (df['education-num'] == 15))\n",
        "\n",
        "# percentage with salary >50K\n",
        "higher_education_rich = round((df.loc[ higher_education & (df['salary'] == '>50K')].count()/df.loc[higher_education].count()*100).mean(), 1)\n",
        "lower_education_rich = round((df.loc[ lower_education & (df['salary'] == '>50K')].count()/df.loc[lower_education].count()*100).mean(), 1)"
      ],
      "execution_count": 16,
      "outputs": []
    },
    {
      "cell_type": "code",
      "metadata": {
        "colab": {
          "base_uri": "https://localhost:8080/"
        },
        "id": "spmuY2qQPlFL",
        "outputId": "eea09cbd-fd04-422c-fa73-ec5a68e0e1ba"
      },
      "source": [
        "print(percentage_bachelors, '%')\n",
        "print(higher_education_rich, '%')\n",
        "print(lower_education_rich, '%')"
      ],
      "execution_count": 17,
      "outputs": [
        {
          "output_type": "stream",
          "text": [
            "16.4 %\n",
            "46.5 %\n",
            "17.4 %\n"
          ],
          "name": "stdout"
        }
      ]
    },
    {
      "cell_type": "code",
      "metadata": {
        "colab": {
          "base_uri": "https://localhost:8080/",
          "height": 97
        },
        "id": "MCAbrI7BP7bw",
        "outputId": "df7948aa-db3b-4475-979b-436ac320108c"
      },
      "source": [
        "df.head(1)"
      ],
      "execution_count": 18,
      "outputs": [
        {
          "output_type": "execute_result",
          "data": {
            "text/html": [
              "<div>\n",
              "<style scoped>\n",
              "    .dataframe tbody tr th:only-of-type {\n",
              "        vertical-align: middle;\n",
              "    }\n",
              "\n",
              "    .dataframe tbody tr th {\n",
              "        vertical-align: top;\n",
              "    }\n",
              "\n",
              "    .dataframe thead th {\n",
              "        text-align: right;\n",
              "    }\n",
              "</style>\n",
              "<table border=\"1\" class=\"dataframe\">\n",
              "  <thead>\n",
              "    <tr style=\"text-align: right;\">\n",
              "      <th></th>\n",
              "      <th>age</th>\n",
              "      <th>workclass</th>\n",
              "      <th>fnlwgt</th>\n",
              "      <th>education</th>\n",
              "      <th>education-num</th>\n",
              "      <th>marital-status</th>\n",
              "      <th>occupation</th>\n",
              "      <th>relationship</th>\n",
              "      <th>race</th>\n",
              "      <th>sex</th>\n",
              "      <th>capital-gain</th>\n",
              "      <th>capital-loss</th>\n",
              "      <th>hours-per-week</th>\n",
              "      <th>native-country</th>\n",
              "      <th>salary</th>\n",
              "    </tr>\n",
              "  </thead>\n",
              "  <tbody>\n",
              "    <tr>\n",
              "      <th>0</th>\n",
              "      <td>39</td>\n",
              "      <td>State-gov</td>\n",
              "      <td>77516</td>\n",
              "      <td>Bachelors</td>\n",
              "      <td>13</td>\n",
              "      <td>Never-married</td>\n",
              "      <td>Adm-clerical</td>\n",
              "      <td>Not-in-family</td>\n",
              "      <td>White</td>\n",
              "      <td>Male</td>\n",
              "      <td>2174</td>\n",
              "      <td>0</td>\n",
              "      <td>40</td>\n",
              "      <td>United-States</td>\n",
              "      <td>&lt;=50K</td>\n",
              "    </tr>\n",
              "  </tbody>\n",
              "</table>\n",
              "</div>"
            ],
            "text/plain": [
              "   age  workclass  fnlwgt  ... hours-per-week  native-country salary\n",
              "0   39  State-gov   77516  ...             40   United-States  <=50K\n",
              "\n",
              "[1 rows x 15 columns]"
            ]
          },
          "metadata": {
            "tags": []
          },
          "execution_count": 18
        }
      ]
    },
    {
      "cell_type": "code",
      "metadata": {
        "colab": {
          "base_uri": "https://localhost:8080/"
        },
        "id": "-LPbWb3HQMn2",
        "outputId": "16b70ef8-1213-4eee-ce99-1ae86672782d"
      },
      "source": [
        "df['hours-per-week'].value_counts()"
      ],
      "execution_count": 19,
      "outputs": [
        {
          "output_type": "execute_result",
          "data": {
            "text/plain": [
              "40    15217\n",
              "50     2819\n",
              "45     1824\n",
              "60     1475\n",
              "35     1297\n",
              "      ...  \n",
              "92        1\n",
              "94        1\n",
              "87        1\n",
              "74        1\n",
              "82        1\n",
              "Name: hours-per-week, Length: 94, dtype: int64"
            ]
          },
          "metadata": {
            "tags": []
          },
          "execution_count": 19
        }
      ]
    },
    {
      "cell_type": "code",
      "metadata": {
        "colab": {
          "base_uri": "https://localhost:8080/"
        },
        "id": "X3K0GPNZQgeh",
        "outputId": "4fa38117-e517-4d7a-8156-7abb8a13a312"
      },
      "source": [
        "df['hours-per-week'].min()"
      ],
      "execution_count": 20,
      "outputs": [
        {
          "output_type": "execute_result",
          "data": {
            "text/plain": [
              "1"
            ]
          },
          "metadata": {
            "tags": []
          },
          "execution_count": 20
        }
      ]
    },
    {
      "cell_type": "code",
      "metadata": {
        "id": "co4pHjXZpOtY"
      },
      "source": [
        "# What is the minimum number of hours a person works per week \n",
        "# (hours-per-week feature)?\n",
        "min_work_hours = df['hours-per-week'].min()"
      ],
      "execution_count": 21,
      "outputs": []
    },
    {
      "cell_type": "code",
      "metadata": {
        "colab": {
          "base_uri": "https://localhost:8080/"
        },
        "id": "ol-pk9LfS2pK",
        "outputId": "97249612-0ef5-4b59-b250-31e1fdb46018"
      },
      "source": [
        "(df.loc[df['hours-per-week'] == 1].count()).mean()"
      ],
      "execution_count": 22,
      "outputs": [
        {
          "output_type": "execute_result",
          "data": {
            "text/plain": [
              "20.0"
            ]
          },
          "metadata": {
            "tags": []
          },
          "execution_count": 22
        }
      ]
    },
    {
      "cell_type": "code",
      "metadata": {
        "id": "bo9TkLM9TDse"
      },
      "source": [
        "onehourworkers = df.loc[df['hours-per-week'] == 1].count()"
      ],
      "execution_count": 23,
      "outputs": []
    },
    {
      "cell_type": "code",
      "metadata": {
        "colab": {
          "base_uri": "https://localhost:8080/"
        },
        "id": "I0fG-DXnRd1G",
        "outputId": "72436ef3-98d1-4a43-8f90-711b6c2ba0ef"
      },
      "source": [
        "(df.loc[(df['hours-per-week'] == 1) & (df['salary'] == '>50K')].count()/onehourworkers*100).mean()"
      ],
      "execution_count": 24,
      "outputs": [
        {
          "output_type": "execute_result",
          "data": {
            "text/plain": [
              "10.0"
            ]
          },
          "metadata": {
            "tags": []
          },
          "execution_count": 24
        }
      ]
    },
    {
      "cell_type": "code",
      "metadata": {
        "id": "0hboMGJopRA1"
      },
      "source": [
        "# What percentage of the people who work the minimum number of hours per week \n",
        "# have a salary of >50K?\n",
        "num_min_workers = df.loc[df['hours-per-week'] == 1].count()\n",
        "rich_percentage = round((df.loc[(df['hours-per-week'] == 1) & (df['salary'] == '>50K')].count()/num_min_workers*100).mean())"
      ],
      "execution_count": 25,
      "outputs": []
    },
    {
      "cell_type": "code",
      "metadata": {
        "colab": {
          "base_uri": "https://localhost:8080/"
        },
        "id": "89ZbL9mfT8o8",
        "outputId": "4c1d2ee5-ab41-43fd-a230-049811af9b9a"
      },
      "source": [
        "print(rich_percentage, '%')"
      ],
      "execution_count": 26,
      "outputs": [
        {
          "output_type": "stream",
          "text": [
            "10 %\n"
          ],
          "name": "stdout"
        }
      ]
    },
    {
      "cell_type": "code",
      "metadata": {
        "colab": {
          "base_uri": "https://localhost:8080/",
          "height": 97
        },
        "id": "SkXzvvN3Uwmi",
        "outputId": "ac92a915-cddf-43a2-ff6d-108a76c52d00"
      },
      "source": [
        "df.head(1)"
      ],
      "execution_count": 27,
      "outputs": [
        {
          "output_type": "execute_result",
          "data": {
            "text/html": [
              "<div>\n",
              "<style scoped>\n",
              "    .dataframe tbody tr th:only-of-type {\n",
              "        vertical-align: middle;\n",
              "    }\n",
              "\n",
              "    .dataframe tbody tr th {\n",
              "        vertical-align: top;\n",
              "    }\n",
              "\n",
              "    .dataframe thead th {\n",
              "        text-align: right;\n",
              "    }\n",
              "</style>\n",
              "<table border=\"1\" class=\"dataframe\">\n",
              "  <thead>\n",
              "    <tr style=\"text-align: right;\">\n",
              "      <th></th>\n",
              "      <th>age</th>\n",
              "      <th>workclass</th>\n",
              "      <th>fnlwgt</th>\n",
              "      <th>education</th>\n",
              "      <th>education-num</th>\n",
              "      <th>marital-status</th>\n",
              "      <th>occupation</th>\n",
              "      <th>relationship</th>\n",
              "      <th>race</th>\n",
              "      <th>sex</th>\n",
              "      <th>capital-gain</th>\n",
              "      <th>capital-loss</th>\n",
              "      <th>hours-per-week</th>\n",
              "      <th>native-country</th>\n",
              "      <th>salary</th>\n",
              "    </tr>\n",
              "  </thead>\n",
              "  <tbody>\n",
              "    <tr>\n",
              "      <th>0</th>\n",
              "      <td>39</td>\n",
              "      <td>State-gov</td>\n",
              "      <td>77516</td>\n",
              "      <td>Bachelors</td>\n",
              "      <td>13</td>\n",
              "      <td>Never-married</td>\n",
              "      <td>Adm-clerical</td>\n",
              "      <td>Not-in-family</td>\n",
              "      <td>White</td>\n",
              "      <td>Male</td>\n",
              "      <td>2174</td>\n",
              "      <td>0</td>\n",
              "      <td>40</td>\n",
              "      <td>United-States</td>\n",
              "      <td>&lt;=50K</td>\n",
              "    </tr>\n",
              "  </tbody>\n",
              "</table>\n",
              "</div>"
            ],
            "text/plain": [
              "   age  workclass  fnlwgt  ... hours-per-week  native-country salary\n",
              "0   39  State-gov   77516  ...             40   United-States  <=50K\n",
              "\n",
              "[1 rows x 15 columns]"
            ]
          },
          "metadata": {
            "tags": []
          },
          "execution_count": 27
        }
      ]
    },
    {
      "cell_type": "code",
      "metadata": {
        "colab": {
          "base_uri": "https://localhost:8080/"
        },
        "id": "7XphFU3kcmMA",
        "outputId": "705309ce-ef7c-4b88-c7e4-a666f8cd025a"
      },
      "source": [
        "df.loc[df['salary'] == '>50K', 'native-country'].value_counts()"
      ],
      "execution_count": 28,
      "outputs": [
        {
          "output_type": "execute_result",
          "data": {
            "text/plain": [
              "United-States         7171\n",
              "?                      146\n",
              "Philippines             61\n",
              "Germany                 44\n",
              "India                   40\n",
              "Canada                  39\n",
              "Mexico                  33\n",
              "England                 30\n",
              "Italy                   25\n",
              "Cuba                    25\n",
              "Japan                   24\n",
              "Taiwan                  20\n",
              "China                   20\n",
              "Iran                    18\n",
              "South                   16\n",
              "Poland                  12\n",
              "France                  12\n",
              "Puerto-Rico             12\n",
              "Jamaica                 10\n",
              "El-Salvador              9\n",
              "Greece                   8\n",
              "Cambodia                 7\n",
              "Hong                     6\n",
              "Yugoslavia               6\n",
              "Vietnam                  5\n",
              "Ireland                  5\n",
              "Haiti                    4\n",
              "Portugal                 4\n",
              "Ecuador                  4\n",
              "Thailand                 3\n",
              "Guatemala                3\n",
              "Hungary                  3\n",
              "Scotland                 3\n",
              "Laos                     2\n",
              "Columbia                 2\n",
              "Dominican-Republic       2\n",
              "Nicaragua                2\n",
              "Peru                     2\n",
              "Trinadad&Tobago          2\n",
              "Honduras                 1\n",
              "Name: native-country, dtype: int64"
            ]
          },
          "metadata": {
            "tags": []
          },
          "execution_count": 28
        }
      ]
    },
    {
      "cell_type": "code",
      "metadata": {
        "colab": {
          "base_uri": "https://localhost:8080/"
        },
        "id": "4J_VHsZyd_I8",
        "outputId": "a2cf2d6d-5c89-432a-f722-4940bdabb42c"
      },
      "source": [
        "df['native-country'].value_counts()"
      ],
      "execution_count": 29,
      "outputs": [
        {
          "output_type": "execute_result",
          "data": {
            "text/plain": [
              "United-States                 29170\n",
              "Mexico                          643\n",
              "?                               583\n",
              "Philippines                     198\n",
              "Germany                         137\n",
              "Canada                          121\n",
              "Puerto-Rico                     114\n",
              "El-Salvador                     106\n",
              "India                           100\n",
              "Cuba                             95\n",
              "England                          90\n",
              "Jamaica                          81\n",
              "South                            80\n",
              "China                            75\n",
              "Italy                            73\n",
              "Dominican-Republic               70\n",
              "Vietnam                          67\n",
              "Guatemala                        64\n",
              "Japan                            62\n",
              "Poland                           60\n",
              "Columbia                         59\n",
              "Taiwan                           51\n",
              "Haiti                            44\n",
              "Iran                             43\n",
              "Portugal                         37\n",
              "Nicaragua                        34\n",
              "Peru                             31\n",
              "France                           29\n",
              "Greece                           29\n",
              "Ecuador                          28\n",
              "Ireland                          24\n",
              "Hong                             20\n",
              "Cambodia                         19\n",
              "Trinadad&Tobago                  19\n",
              "Thailand                         18\n",
              "Laos                             18\n",
              "Yugoslavia                       16\n",
              "Outlying-US(Guam-USVI-etc)       14\n",
              "Hungary                          13\n",
              "Honduras                         13\n",
              "Scotland                         12\n",
              "Holand-Netherlands                1\n",
              "Name: native-country, dtype: int64"
            ]
          },
          "metadata": {
            "tags": []
          },
          "execution_count": 29
        }
      ]
    },
    {
      "cell_type": "code",
      "metadata": {
        "colab": {
          "base_uri": "https://localhost:8080/"
        },
        "id": "3d9lFPN_hyDv",
        "outputId": "811c2fb5-1338-4ca3-d844-1f862897edce"
      },
      "source": [
        "(df.loc[df['salary'] == '>50K', 'native-country'].value_counts()) / df['native-country'].value_counts()"
      ],
      "execution_count": 30,
      "outputs": [
        {
          "output_type": "execute_result",
          "data": {
            "text/plain": [
              "?                             0.250429\n",
              "Cambodia                      0.368421\n",
              "Canada                        0.322314\n",
              "China                         0.266667\n",
              "Columbia                      0.033898\n",
              "Cuba                          0.263158\n",
              "Dominican-Republic            0.028571\n",
              "Ecuador                       0.142857\n",
              "El-Salvador                   0.084906\n",
              "England                       0.333333\n",
              "France                        0.413793\n",
              "Germany                       0.321168\n",
              "Greece                        0.275862\n",
              "Guatemala                     0.046875\n",
              "Haiti                         0.090909\n",
              "Holand-Netherlands                 NaN\n",
              "Honduras                      0.076923\n",
              "Hong                          0.300000\n",
              "Hungary                       0.230769\n",
              "India                         0.400000\n",
              "Iran                          0.418605\n",
              "Ireland                       0.208333\n",
              "Italy                         0.342466\n",
              "Jamaica                       0.123457\n",
              "Japan                         0.387097\n",
              "Laos                          0.111111\n",
              "Mexico                        0.051322\n",
              "Nicaragua                     0.058824\n",
              "Outlying-US(Guam-USVI-etc)         NaN\n",
              "Peru                          0.064516\n",
              "Philippines                   0.308081\n",
              "Poland                        0.200000\n",
              "Portugal                      0.108108\n",
              "Puerto-Rico                   0.105263\n",
              "Scotland                      0.250000\n",
              "South                         0.200000\n",
              "Taiwan                        0.392157\n",
              "Thailand                      0.166667\n",
              "Trinadad&Tobago               0.105263\n",
              "United-States                 0.245835\n",
              "Vietnam                       0.074627\n",
              "Yugoslavia                    0.375000\n",
              "Name: native-country, dtype: float64"
            ]
          },
          "metadata": {
            "tags": []
          },
          "execution_count": 30
        }
      ]
    },
    {
      "cell_type": "code",
      "metadata": {
        "colab": {
          "base_uri": "https://localhost:8080/",
          "height": 35
        },
        "id": "BECYa4qVeZYM",
        "outputId": "c1e134c1-3b3b-4998-8872-414812dab804"
      },
      "source": [
        "((df.loc[df['salary'] == '>50K', 'native-country'].value_counts()) / df['native-country'].value_counts()).idxmax()"
      ],
      "execution_count": 31,
      "outputs": [
        {
          "output_type": "execute_result",
          "data": {
            "application/vnd.google.colaboratory.intrinsic+json": {
              "type": "string"
            },
            "text/plain": [
              "'Iran'"
            ]
          },
          "metadata": {
            "tags": []
          },
          "execution_count": 31
        }
      ]
    },
    {
      "cell_type": "code",
      "metadata": {
        "colab": {
          "base_uri": "https://localhost:8080/"
        },
        "id": "hJYBoBhZgrdr",
        "outputId": "65702dd5-6b04-4252-d4c5-8ec404536467"
      },
      "source": [
        "((df.loc[df['salary'] == '>50K', 'native-country'].value_counts()) / df['native-country'].value_counts() *100).max()"
      ],
      "execution_count": 32,
      "outputs": [
        {
          "output_type": "execute_result",
          "data": {
            "text/plain": [
              "41.86046511627907"
            ]
          },
          "metadata": {
            "tags": []
          },
          "execution_count": 32
        }
      ]
    },
    {
      "cell_type": "code",
      "metadata": {
        "id": "8X9pVtJSppsx"
      },
      "source": [
        "# What country has the highest percentage of people that earn >50K?\n",
        "highest_earning_country = ((df.loc[df['salary'] == '>50K', 'native-country'].value_counts()) / df['native-country'].value_counts()).idxmax()\n",
        "highest_earning_country_percentage = round(((df.loc[df['salary'] == '>50K', 'native-country'].value_counts()) / df['native-country'].value_counts() *100).max(), 1)"
      ],
      "execution_count": 33,
      "outputs": []
    },
    {
      "cell_type": "code",
      "metadata": {
        "colab": {
          "base_uri": "https://localhost:8080/"
        },
        "id": "YQn1brY2g7mw",
        "outputId": "29ee852e-9682-4205-8f21-0011a83c3770"
      },
      "source": [
        "print(highest_earning_country)\n",
        "print(highest_earning_country_percentage)"
      ],
      "execution_count": 34,
      "outputs": [
        {
          "output_type": "stream",
          "text": [
            "Iran\n",
            "41.9\n"
          ],
          "name": "stdout"
        }
      ]
    },
    {
      "cell_type": "code",
      "metadata": {
        "colab": {
          "base_uri": "https://localhost:8080/",
          "height": 35
        },
        "id": "za1yvo8FiGVp",
        "outputId": "ab8b4e4a-2d7b-458f-ef2c-90626ee6acbf"
      },
      "source": [
        "(df.loc[(df['native-country'] == 'India') & (df['salary'] == '>50K'), 'occupation'].value_counts()).idxmax()"
      ],
      "execution_count": 35,
      "outputs": [
        {
          "output_type": "execute_result",
          "data": {
            "application/vnd.google.colaboratory.intrinsic+json": {
              "type": "string"
            },
            "text/plain": [
              "'Prof-specialty'"
            ]
          },
          "metadata": {
            "tags": []
          },
          "execution_count": 35
        }
      ]
    },
    {
      "cell_type": "code",
      "metadata": {
        "id": "-xQqjUvypsri",
        "colab": {
          "base_uri": "https://localhost:8080/"
        },
        "outputId": "3c27c605-2752-4d53-dcaf-de403f97a269"
      },
      "source": [
        "# Identify the most popular occupation for those who earn >50K in India.\n",
        "top_IN_occupation = (df.loc[(df['native-country'] == 'India') & (df['salary'] == '>50K'), 'occupation'].value_counts()).idxmax()\n",
        "print(top_IN_occupation)"
      ],
      "execution_count": 36,
      "outputs": [
        {
          "output_type": "stream",
          "text": [
            "Prof-specialty\n"
          ],
          "name": "stdout"
        }
      ]
    }
  ]
}